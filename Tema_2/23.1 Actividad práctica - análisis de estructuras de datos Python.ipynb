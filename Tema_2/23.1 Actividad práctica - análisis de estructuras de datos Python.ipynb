{
 "cells": [
  {
   "cell_type": "markdown",
   "id": "7714781f",
   "metadata": {},
   "source": [
    "## Actividad práctica: análisis de estructuras de datos"
   ]
  },
  {
   "cell_type": "markdown",
   "id": "141845e7",
   "metadata": {},
   "source": [
    "Para esta actividad, debes borrar las rayas que están antes de los paréntesis y rellenar los espacios que quedan vacíos con la palabra o el texto faltantes en la línea de código, de manera que puedas hallar la respuesta. "
   ]
  },
  {
   "cell_type": "markdown",
   "id": "1bbc56eb",
   "metadata": {},
   "source": [
    "### Punto 1"
   ]
  },
  {
   "cell_type": "code",
   "execution_count": null,
   "id": "f83a2690",
   "metadata": {},
   "outputs": [],
   "source": [
    "# Se define la variable x igual a 3\n",
    "x = 3\n",
    "# Debes borrar las líneas y rellenar el espacio con la palabra que permita saber el tipo (type) de dato de x\n",
    "_(x)"
   ]
  },
  {
   "cell_type": "markdown",
   "id": "a1befc0d",
   "metadata": {},
   "source": [
    "### Punto 2"
   ]
  },
  {
   "cell_type": "code",
   "execution_count": null,
   "id": "f657fa36",
   "metadata": {},
   "outputs": [],
   "source": [
    "# Se define la variable x igual a 5\n",
    "x = 5\n",
    "# Se define la variable y igual a 2\n",
    "y = _\n",
    "# Se define la variable z como la división entre x/y\n",
    "z = _/_\n",
    "# Se escribe type para encontrar el valor de z; no borres el \"print\", gracias a él tendremos las dos respuestas.\n",
    "print(type(_))\n",
    "# Se escribe z para saber si resultado final.\n",
    "_"
   ]
  },
  {
   "cell_type": "markdown",
   "id": "5b6ffccd",
   "metadata": {},
   "source": [
    "### Punto 3"
   ]
  },
  {
   "cell_type": "code",
   "execution_count": null,
   "id": "187e807c",
   "metadata": {},
   "outputs": [],
   "source": [
    "# Se define x igual a 3\n",
    "_ = 3\n",
    "# Se define b igual a 5\n",
    "b = _\n",
    "# Se define h para saber si b es mayor a x\n",
    "h = _ > _\n",
    "# Se imprime la respuesta y el tipo de variable de h\n",
    "print(_)\n",
    "print(t_p_(h))"
   ]
  }
 ],
 "metadata": {
  "kernelspec": {
   "display_name": "Python 3",
   "language": "python",
   "name": "python3"
  },
  "language_info": {
   "codemirror_mode": {
    "name": "ipython",
    "version": 3
   },
   "file_extension": ".py",
   "mimetype": "text/x-python",
   "name": "python",
   "nbconvert_exporter": "python",
   "pygments_lexer": "ipython3",
   "version": "3.8.8"
  }
 },
 "nbformat": 4,
 "nbformat_minor": 5
}
